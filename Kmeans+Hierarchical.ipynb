{
  "nbformat": 4,
  "nbformat_minor": 0,
  "metadata": {
    "colab": {
      "name": "Kmeans+Hierarchical",
      "provenance": [],
      "collapsed_sections": []
    },
    "kernelspec": {
      "name": "python3",
      "display_name": "Python 3"
    },
    "language_info": {
      "name": "python"
    }
  },
  "cells": [
    {
      "cell_type": "code",
      "metadata": {
        "id": "fIzrFefcizOC",
        "colab": {
          "base_uri": "https://localhost:8080/"
        },
        "outputId": "28135cc8-6b0d-4a5b-b263-cb1efc4f0828"
      },
      "source": [
        "from google.colab import drive\n",
        "drive.mount('/content/drive')"
      ],
      "execution_count": 4,
      "outputs": [
        {
          "output_type": "stream",
          "text": [
            "Mounted at /content/drive\n"
          ],
          "name": "stdout"
        }
      ]
    },
    {
      "cell_type": "code",
      "metadata": {
        "id": "bkHqOhl7jEVr"
      },
      "source": [
        "import pandas as pd\n",
        "import numpy as np\n",
        "import matplotlib.pyplot as plt\n",
        "import seaborn as sns\n",
        "import joblib\n",
        "import pickle"
      ],
      "execution_count": 5,
      "outputs": []
    },
    {
      "cell_type": "code",
      "metadata": {
        "id": "Lp9SSOLKjINX"
      },
      "source": [
        "data = pd.read_csv('/content/drive/MyDrive/sample.csv', header = 0)"
      ],
      "execution_count": 6,
      "outputs": []
    },
    {
      "cell_type": "code",
      "metadata": {
        "id": "28lvj0RFjxV4"
      },
      "source": [
        "from sklearn.model_selection import train_test_split, GridSearchCV, StratifiedKFold\n",
        "from sklearn.metrics import accuracy_score, confusion_matrix, recall_score, precision_score, f1_score\n",
        "from sklearn.ensemble import RandomForestClassifier, GradientBoostingClassifier\n",
        "\n",
        "import lightgbm as lgb\n",
        "import xgboost as xgb"
      ],
      "execution_count": 7,
      "outputs": []
    },
    {
      "cell_type": "code",
      "metadata": {
        "id": "mzuWFMTPj6g8"
      },
      "source": [
        "X = data.iloc[:, 1:]\n",
        "y = data['TARGET']\n",
        "\n",
        "train_x, test_x, train_y, test_y = train_test_split(X, y, test_size=0.3, stratify = y, random_state = 2021)"
      ],
      "execution_count": 8,
      "outputs": []
    },
    {
      "cell_type": "code",
      "metadata": {
        "colab": {
          "base_uri": "https://localhost:8080/"
        },
        "id": "nXWYwGb5j-47",
        "outputId": "7d7c5331-8c65-4e91-e128-b57e3e2be93e"
      },
      "source": [
        "#LightGBM 실습\n",
        "model = lgb.LGBMClassifier(is_unbalance=True, objective = 'binary', metric= 'cross-entropy')\n",
        "param_space = {'learning rate': [0.01,0.1,0.25,0.5],\n",
        "               'max_depth': [5,6,7,10,15],\n",
        "               'num_levels': [5,7,9,10,15]}\n",
        "              #'boosting': ['gbdt','rf']}\n",
        "\n",
        "cv = StratifiedKFold(n_splits =3)\n",
        "grid_search = GridSearchCV(model, param_grid=param_space, cv=cv, \n",
        "                           scoring = ['f1', 'precision', 'recall','accuracy'],refit= 'recall', n_jobs= -1)\n",
        "grid_search.fit(train_x,train_y)\n",
        "best_model = grid_search.best_estimator_\n",
        "joblib.dump(best_model, 'best_model.pkl')"
      ],
      "execution_count": 10,
      "outputs": [
        {
          "output_type": "stream",
          "text": [
            "/usr/local/lib/python3.7/dist-packages/joblib/externals/loky/process_executor.py:691: UserWarning: A worker stopped while some jobs were given to the executor. This can be caused by a too short worker timeout or by a memory leak.\n",
            "  \"timeout or by a memory leak.\", UserWarning\n"
          ],
          "name": "stderr"
        },
        {
          "output_type": "execute_result",
          "data": {
            "text/plain": [
              "['best_model.pkl']"
            ]
          },
          "metadata": {},
          "execution_count": 10
        }
      ]
    },
    {
      "cell_type": "code",
      "metadata": {
        "id": "G2lQzzkarwzF"
      },
      "source": [
        "best_model = joblib.load(f'best_model.pkl')\n",
        "pred_train_y = best_model.predict(train_x)\n",
        "pred_test_y = best_model.predict(test_x)"
      ],
      "execution_count": 11,
      "outputs": []
    },
    {
      "cell_type": "code",
      "metadata": {
        "id": "TjRsYX8rtGlD"
      },
      "source": [
        "def model_evaluation(true,pred): #이상치를 중심으로 결과를 판단해야 함\n",
        "\n",
        "  print('Confusion Matrix') #Row = True / Column = pred\n",
        "  print(confusion_matrix(true, pred, labels=[1,0]))\n",
        "  print('\\n')\n",
        "  print(f'Accuracy: {accuracy_score(true,pred)}')\n",
        "  print(f'Recall: {recall_score(true,pred,pos_label=1)}') #pred-이상 (실제로 정상 관측치 중에서 모델이 정상으로 예측한 비율)\n",
        "  print(f'precision: {precision_score(true,pred,pos_label=1)}') # True-이상 / Pred-Total-이상 (모델이 정상으로 판단한 관측치 중 실제로 정상치였던 비율)\n",
        "  print(f'F1: {f1_score(true, pred, pos_label=1)}]') #Precision과 Recall의 조화평균"
      ],
      "execution_count": 12,
      "outputs": []
    },
    {
      "cell_type": "code",
      "metadata": {
        "id": "hbdSHgiN0YC0",
        "colab": {
          "base_uri": "https://localhost:8080/"
        },
        "outputId": "40b8ea53-3904-4a7d-e158-c7438044e3e2"
      },
      "source": [
        "model_evaluation(train_y, pred_train_y)"
      ],
      "execution_count": 13,
      "outputs": [
        {
          "output_type": "stream",
          "text": [
            "Confusion Matrix\n",
            "[[ 449    0]\n",
            " [  22 6978]]\n",
            "\n",
            "\n",
            "Accuracy: 0.997046583434018\n",
            "Recall: 1.0\n",
            "precision: 0.9532908704883227\n",
            "F1: 0.9760869565217392]\n"
          ],
          "name": "stdout"
        }
      ]
    },
    {
      "cell_type": "code",
      "metadata": {
        "id": "tT7HxnDp0fir",
        "colab": {
          "base_uri": "https://localhost:8080/"
        },
        "outputId": "aab0a3ff-d954-43aa-9a77-dc76be654c77"
      },
      "source": [
        "model_evaluation(test_y,pred_test_y)"
      ],
      "execution_count": 14,
      "outputs": [
        {
          "output_type": "stream",
          "text": [
            "Confusion Matrix\n",
            "[[  50  143]\n",
            " [  85 2915]]\n",
            "\n",
            "\n",
            "Accuracy: 0.9285937989351707\n",
            "Recall: 0.25906735751295334\n",
            "precision: 0.37037037037037035\n",
            "F1: 0.3048780487804878]\n"
          ],
          "name": "stdout"
        }
      ]
    },
    {
      "cell_type": "code",
      "metadata": {
        "id": "Jg6HsjyJ0uKi"
      },
      "source": [
        "true_y = list(test_y)\n",
        "pred_y = list(pred_test_y)\n",
        "\n",
        "new_label = []\n",
        "\n",
        "for i,(true,pred) in enumerate(zip(true_y,pred_y)):\n",
        "  if (true ==1) and (pred == 1):\n",
        "    new_label.append('TP')\n",
        "  elif (true == 1)and (pred == 0):\n",
        "    new_label.append('TN')\n",
        "  elif (true == 0)and (pred == 1): \n",
        "    new_label.append('FN')\n",
        "  elif (true == 0)and (pred == 0): \n",
        "    new_label.append('FP')"
      ],
      "execution_count": 15,
      "outputs": []
    },
    {
      "cell_type": "code",
      "metadata": {
        "id": "fl5qohc31L85",
        "colab": {
          "base_uri": "https://localhost:8080/"
        },
        "outputId": "2d5800c4-4185-42a4-ada8-e21d5ccf55f9"
      },
      "source": [
        "from collections import Counter\n",
        "Counter(new_label)"
      ],
      "execution_count": 16,
      "outputs": [
        {
          "output_type": "execute_result",
          "data": {
            "text/plain": [
              "Counter({'FN': 85, 'FP': 2915, 'TN': 143, 'TP': 50})"
            ]
          },
          "metadata": {},
          "execution_count": 16
        }
      ]
    },
    {
      "cell_type": "code",
      "metadata": {
        "id": "QZlwgXiT1_XQ"
      },
      "source": [
        "temp_x = test_x"
      ],
      "execution_count": 17,
      "outputs": []
    },
    {
      "cell_type": "code",
      "metadata": {
        "id": "63tHKqcg2DoK"
      },
      "source": [
        "from sklearn.preprocessing import StandardScaler, MinMaxScaler\n",
        "\n",
        "scaler = StandardScaler()\n",
        "temp_x = pd.DataFrame(scaler.fit_transform(temp_x), columns = temp_x.columns)"
      ],
      "execution_count": 18,
      "outputs": []
    },
    {
      "cell_type": "code",
      "metadata": {
        "id": "dKMwfsZv2Z37"
      },
      "source": [
        "from sklearn.cluster import AgglomerativeClustering, KMeans\n",
        "from sklearn.metrics import silhouette_score"
      ],
      "execution_count": 19,
      "outputs": []
    },
    {
      "cell_type": "code",
      "metadata": {
        "id": "lTu89jYU2y-T"
      },
      "source": [
        "def clustering(X, cluster_type):\n",
        "\n",
        "    n_clusters = [2,3,4,5,6,7,8]\n",
        "    score_list = []\n",
        "    for n in n_clusters:\n",
        "\n",
        "      if cluster_type =='Kmeans':\n",
        "        cluster = KMeans(n_clusters=n,init='k-means++',random_state=2021)\n",
        "      elif cluster_type =='Hierarchical':\n",
        "        cluster = AgglomerativeClustering(n_clusters=n)\n",
        "      else:\n",
        "        print('Check Model Type')\n",
        "        raise NameError\n",
        "\n",
        "      cluster.fit(X)\n",
        "      c_label = cluster.labels_\n",
        "      score = silhouette_score(X, c_label)\n",
        "      score_list.append(score)\n",
        "\n",
        "    best_n = n_clusters[np.argmax(score_list)]\n",
        "    print(f'Optimal number of cluster - {cluster_type}: {best_n}')\n",
        "\n",
        "    if cluster_type == 'Kmeans' :\n",
        "      best_cluster = KMeans(n_clusters=4, init='k-means++',random_state=2021)\n",
        "    else:\n",
        "      best_cluster = AgglomerativeClustering(n_clusters=4)\n",
        "\n",
        "    best_cluster.fit(X)\n",
        "\n",
        "    best_label = best_cluster.labels_\n",
        "\n",
        "    return best_label, best_n, score_list, n_clusters"
      ],
      "execution_count": 44,
      "outputs": []
    },
    {
      "cell_type": "code",
      "metadata": {
        "id": "USBYpyDS5Hk9",
        "colab": {
          "base_uri": "https://localhost:8080/"
        },
        "outputId": "0f5afce9-0ae0-4668-cbd0-46f3066f8a78"
      },
      "source": [
        "k_label,k_best_n,k_score_list,n_clusters =clustering(temp_x, 'Kmeans')\n",
        "h_label,h_best_n,h_score_list,n_clusters =clustering(temp_x, 'Hierarchical')"
      ],
      "execution_count": 45,
      "outputs": [
        {
          "output_type": "stream",
          "text": [
            "Optimal number of cluster - Kmeans: 2\n",
            "Optimal number of cluster - Hierarchical: 2\n"
          ],
          "name": "stdout"
        }
      ]
    },
    {
      "cell_type": "code",
      "metadata": {
        "id": "oQ7CM7GxLWur",
        "colab": {
          "base_uri": "https://localhost:8080/",
          "height": 296
        },
        "outputId": "7b11d03b-deb2-4e0a-ecba-1b26ec54b1b9"
      },
      "source": [
        "plt.figure(figsize=(8,4))\n",
        "plt.plot(k_score_list, marker='o',color = 'gray',lw=1, ls='--')\n",
        "plt.title('Silhouette Score Plot K-means')\n",
        "plt.xlabel('n_clusters')\n",
        "plt.xticks(np.arange(len(n_clusters)),n_clusters)\n",
        "plt.show()"
      ],
      "execution_count": 46,
      "outputs": [
        {
          "output_type": "display_data",
          "data": {
            "image/png": "[encoded data removed]",
            "text/plain": [
              "<Figure size 576x288 with 1 Axes>"
            ]
          },
          "metadata": {
            "needs_background": "light"
          }
        }
      ]
    },
    {
      "cell_type": "code",
      "metadata": {
        "id": "v7gdYAhRMb8S",
        "colab": {
          "base_uri": "https://localhost:8080/",
          "height": 406
        },
        "outputId": "ec094cb1-27c0-4e0a-d22f-eda5f3c1dbbb"
      },
      "source": [
        "from sklearn.decomposition import PCA\n",
        "from sklearn.manifold import TSNE\n",
        "\n",
        "color_list = {'green','red','blue','navy', 'magenta','skyblue','black','purple','lightgreen','steelblue','darkblue','skyblue','gray'}\n",
        "color_dict = {'TP':'red', 'TN': 'blue', 'FP': 'green','FN':'yellow'}\n",
        "color_map_k = [color_list[e] for e in k_label]\n",
        "color_map_h = [color_list[e] for e in h_label]\n",
        "color_label = [color_dict[label] for label in new_label]\n",
        "\n",
        "tsne = TSNE(n_components=2)\n",
        "trans_tsne = tsne.fit_transform(temp_x)\n",
        "pca = PCA(n_components=2)\n",
        "trans_pca = pca.fit_transform(temp_x)"
      ],
      "execution_count": 48,
      "outputs": [
        {
          "output_type": "error",
          "ename": "TypeError",
          "evalue": "ignored",
          "traceback": [
            "\u001b[0;31m---------------------------------------------------------------------------\u001b[0m",
            "\u001b[0;31mTypeError\u001b[0m                                 Traceback (most recent call last)",
            "\u001b[0;32m<ipython-input-48-b48a0ebbfcac>\u001b[0m in \u001b[0;36m<module>\u001b[0;34m()\u001b[0m\n\u001b[1;32m      4\u001b[0m \u001b[0mcolor_list\u001b[0m \u001b[0;34m=\u001b[0m \u001b[0;34m{\u001b[0m\u001b[0;34m'green'\u001b[0m\u001b[0;34m,\u001b[0m\u001b[0;34m'red'\u001b[0m\u001b[0;34m,\u001b[0m\u001b[0;34m'blue'\u001b[0m\u001b[0;34m,\u001b[0m\u001b[0;34m'navy'\u001b[0m\u001b[0;34m,\u001b[0m \u001b[0;34m'magenta'\u001b[0m\u001b[0;34m,\u001b[0m\u001b[0;34m'skyblue'\u001b[0m\u001b[0;34m,\u001b[0m\u001b[0;34m'black'\u001b[0m\u001b[0;34m,\u001b[0m\u001b[0;34m'purple'\u001b[0m\u001b[0;34m,\u001b[0m\u001b[0;34m'lightgreen'\u001b[0m\u001b[0;34m,\u001b[0m\u001b[0;34m'steelblue'\u001b[0m\u001b[0;34m,\u001b[0m\u001b[0;34m'darkblue'\u001b[0m\u001b[0;34m,\u001b[0m\u001b[0;34m'skyblue'\u001b[0m\u001b[0;34m,\u001b[0m\u001b[0;34m'gray'\u001b[0m\u001b[0;34m}\u001b[0m\u001b[0;34m\u001b[0m\u001b[0;34m\u001b[0m\u001b[0m\n\u001b[1;32m      5\u001b[0m \u001b[0mcolor_dict\u001b[0m \u001b[0;34m=\u001b[0m \u001b[0;34m{\u001b[0m\u001b[0;34m'TP'\u001b[0m\u001b[0;34m:\u001b[0m\u001b[0;34m'red'\u001b[0m\u001b[0;34m,\u001b[0m \u001b[0;34m'TN'\u001b[0m\u001b[0;34m:\u001b[0m \u001b[0;34m'blue'\u001b[0m\u001b[0;34m,\u001b[0m \u001b[0;34m'FP'\u001b[0m\u001b[0;34m:\u001b[0m \u001b[0;34m'green'\u001b[0m\u001b[0;34m,\u001b[0m\u001b[0;34m'FN'\u001b[0m\u001b[0;34m:\u001b[0m\u001b[0;34m'yellow'\u001b[0m\u001b[0;34m}\u001b[0m\u001b[0;34m\u001b[0m\u001b[0;34m\u001b[0m\u001b[0m\n\u001b[0;32m----> 6\u001b[0;31m \u001b[0mcolor_map_k\u001b[0m \u001b[0;34m=\u001b[0m \u001b[0;34m[\u001b[0m\u001b[0mcolor_list\u001b[0m\u001b[0;34m[\u001b[0m\u001b[0me\u001b[0m\u001b[0;34m]\u001b[0m \u001b[0;32mfor\u001b[0m \u001b[0me\u001b[0m \u001b[0;32min\u001b[0m \u001b[0mk_label\u001b[0m\u001b[0;34m]\u001b[0m\u001b[0;34m\u001b[0m\u001b[0;34m\u001b[0m\u001b[0m\n\u001b[0m\u001b[1;32m      7\u001b[0m \u001b[0mcolor_map_h\u001b[0m \u001b[0;34m=\u001b[0m \u001b[0;34m[\u001b[0m\u001b[0mcolor_list\u001b[0m\u001b[0;34m[\u001b[0m\u001b[0me\u001b[0m\u001b[0;34m]\u001b[0m \u001b[0;32mfor\u001b[0m \u001b[0me\u001b[0m \u001b[0;32min\u001b[0m \u001b[0mh_label\u001b[0m\u001b[0;34m]\u001b[0m\u001b[0;34m\u001b[0m\u001b[0;34m\u001b[0m\u001b[0m\n\u001b[1;32m      8\u001b[0m \u001b[0mcolor_label\u001b[0m \u001b[0;34m=\u001b[0m \u001b[0;34m[\u001b[0m\u001b[0mcolor_dict\u001b[0m\u001b[0;34m[\u001b[0m\u001b[0mlabel\u001b[0m\u001b[0;34m]\u001b[0m \u001b[0;32mfor\u001b[0m \u001b[0mlabel\u001b[0m \u001b[0;32min\u001b[0m \u001b[0mnew_label\u001b[0m\u001b[0;34m]\u001b[0m\u001b[0;34m\u001b[0m\u001b[0;34m\u001b[0m\u001b[0m\n",
            "\u001b[0;32m<ipython-input-48-b48a0ebbfcac>\u001b[0m in \u001b[0;36m<listcomp>\u001b[0;34m(.0)\u001b[0m\n\u001b[1;32m      4\u001b[0m \u001b[0mcolor_list\u001b[0m \u001b[0;34m=\u001b[0m \u001b[0;34m{\u001b[0m\u001b[0;34m'green'\u001b[0m\u001b[0;34m,\u001b[0m\u001b[0;34m'red'\u001b[0m\u001b[0;34m,\u001b[0m\u001b[0;34m'blue'\u001b[0m\u001b[0;34m,\u001b[0m\u001b[0;34m'navy'\u001b[0m\u001b[0;34m,\u001b[0m \u001b[0;34m'magenta'\u001b[0m\u001b[0;34m,\u001b[0m\u001b[0;34m'skyblue'\u001b[0m\u001b[0;34m,\u001b[0m\u001b[0;34m'black'\u001b[0m\u001b[0;34m,\u001b[0m\u001b[0;34m'purple'\u001b[0m\u001b[0;34m,\u001b[0m\u001b[0;34m'lightgreen'\u001b[0m\u001b[0;34m,\u001b[0m\u001b[0;34m'steelblue'\u001b[0m\u001b[0;34m,\u001b[0m\u001b[0;34m'darkblue'\u001b[0m\u001b[0;34m,\u001b[0m\u001b[0;34m'skyblue'\u001b[0m\u001b[0;34m,\u001b[0m\u001b[0;34m'gray'\u001b[0m\u001b[0;34m}\u001b[0m\u001b[0;34m\u001b[0m\u001b[0;34m\u001b[0m\u001b[0m\n\u001b[1;32m      5\u001b[0m \u001b[0mcolor_dict\u001b[0m \u001b[0;34m=\u001b[0m \u001b[0;34m{\u001b[0m\u001b[0;34m'TP'\u001b[0m\u001b[0;34m:\u001b[0m\u001b[0;34m'red'\u001b[0m\u001b[0;34m,\u001b[0m \u001b[0;34m'TN'\u001b[0m\u001b[0;34m:\u001b[0m \u001b[0;34m'blue'\u001b[0m\u001b[0;34m,\u001b[0m \u001b[0;34m'FP'\u001b[0m\u001b[0;34m:\u001b[0m \u001b[0;34m'green'\u001b[0m\u001b[0;34m,\u001b[0m\u001b[0;34m'FN'\u001b[0m\u001b[0;34m:\u001b[0m\u001b[0;34m'yellow'\u001b[0m\u001b[0;34m}\u001b[0m\u001b[0;34m\u001b[0m\u001b[0;34m\u001b[0m\u001b[0m\n\u001b[0;32m----> 6\u001b[0;31m \u001b[0mcolor_map_k\u001b[0m \u001b[0;34m=\u001b[0m \u001b[0;34m[\u001b[0m\u001b[0mcolor_list\u001b[0m\u001b[0;34m[\u001b[0m\u001b[0me\u001b[0m\u001b[0;34m]\u001b[0m \u001b[0;32mfor\u001b[0m \u001b[0me\u001b[0m \u001b[0;32min\u001b[0m \u001b[0mk_label\u001b[0m\u001b[0;34m]\u001b[0m\u001b[0;34m\u001b[0m\u001b[0;34m\u001b[0m\u001b[0m\n\u001b[0m\u001b[1;32m      7\u001b[0m \u001b[0mcolor_map_h\u001b[0m \u001b[0;34m=\u001b[0m \u001b[0;34m[\u001b[0m\u001b[0mcolor_list\u001b[0m\u001b[0;34m[\u001b[0m\u001b[0me\u001b[0m\u001b[0;34m]\u001b[0m \u001b[0;32mfor\u001b[0m \u001b[0me\u001b[0m \u001b[0;32min\u001b[0m \u001b[0mh_label\u001b[0m\u001b[0;34m]\u001b[0m\u001b[0;34m\u001b[0m\u001b[0;34m\u001b[0m\u001b[0m\n\u001b[1;32m      8\u001b[0m \u001b[0mcolor_label\u001b[0m \u001b[0;34m=\u001b[0m \u001b[0;34m[\u001b[0m\u001b[0mcolor_dict\u001b[0m\u001b[0;34m[\u001b[0m\u001b[0mlabel\u001b[0m\u001b[0;34m]\u001b[0m \u001b[0;32mfor\u001b[0m \u001b[0mlabel\u001b[0m \u001b[0;32min\u001b[0m \u001b[0mnew_label\u001b[0m\u001b[0;34m]\u001b[0m\u001b[0;34m\u001b[0m\u001b[0;34m\u001b[0m\u001b[0m\n",
            "\u001b[0;31mTypeError\u001b[0m: 'set' object is not subscriptable"
          ]
        }
      ]
    },
    {
      "cell_type": "code",
      "metadata": {
        "id": "DglqbCMaNxaF"
      },
      "source": [
        "f, ax = plt.subplots(2,3)\n",
        "f.set_figheiht(12)\n",
        "f.set_figwidth(15)\n",
        "\n",
        "ax[0][0].scatter(trans_tsne[:,0],trans_tsne[:,1],s=8,c=color_label)\n",
        "ax[0][0]"
      ],
      "execution_count": null,
      "outputs": []
    }
  ]
}